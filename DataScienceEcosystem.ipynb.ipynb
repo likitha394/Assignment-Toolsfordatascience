{
 "cells": [
  {
   "cell_type": "markdown",
   "id": "dc873b78-78a4-4ffa-8b05-5521b57d06e9",
   "metadata": {},
   "source": [
    "# Data Science Tools and Ecosystem"
   ]
  },
  {
   "cell_type": "markdown",
   "id": "ab439e47-e817-44f6-bb2a-d6b864c2b1f9",
   "metadata": {},
   "source": [
    "In this notebook, Data Science Tools and Ecosystem are summarized."
   ]
  },
  {
   "cell_type": "markdown",
   "id": "1e2baabf-6e8c-4147-9615-282d6733a648",
   "metadata": {},
   "source": [
    "Some of the popular languages that Data Scientists use are:\n",
    "1. Python\n",
    "2. R\n",
    "3. SQL\n",
    "4. JavaScript"
   ]
  },
  {
   "cell_type": "markdown",
   "id": "ff3e58da-bef2-429a-ac7d-e31deffd49d8",
   "metadata": {},
   "source": [
    "Some of the commonly used libraries used by Data Scientists include:\n",
    "1. NumPy\n",
    "2. Panda\n",
    "3. Seaborn\n",
    "4. SciPy"
   ]
  },
  {
   "cell_type": "markdown",
   "id": "bc730c23-dbbc-4d0e-b863-f93f0a068a8a",
   "metadata": {},
   "source": [
    "|Data Science Tools|\n",
    "|---|\n",
    "| Apache Spark|\n",
    "| Hadoop |\n",
    "|TensorFlow|"
   ]
  },
  {
   "cell_type": "markdown",
   "id": "4330192d-2b82-4cf9-a787-d03957f69219",
   "metadata": {},
   "source": [
    "### Below are a few examples of evaluating arithmetic expressions in Python"
   ]
  },
  {
   "cell_type": "code",
   "execution_count": 4,
   "id": "1dad90db-d366-4f18-96db-1c68d4d3d473",
   "metadata": {
    "tags": []
   },
   "outputs": [
    {
     "data": {
      "text/plain": [
       "17"
      ]
     },
     "execution_count": 4,
     "metadata": {},
     "output_type": "execute_result"
    }
   ],
   "source": [
    "#This a simple arithmetic expression to mutiply then add integers.\n",
    "(3*4)+5"
   ]
  },
  {
   "cell_type": "code",
   "execution_count": 5,
   "id": "90e81f30-7589-4979-a3f5-79be9e8cf30c",
   "metadata": {
    "tags": []
   },
   "outputs": [
    {
     "name": "stdout",
     "output_type": "stream",
     "text": [
      "3.3333333333333335\n"
     ]
    }
   ],
   "source": [
    "#This will convert 200 minutes to hours by diving by 60\n",
    "numofhours=200/60\n",
    "print(numofhours)"
   ]
  },
  {
   "cell_type": "markdown",
   "id": "bcc59e1d-600a-4481-9012-179b8926bbdd",
   "metadata": {},
   "source": [
    "**Objectives**\n",
    "* List popular Languages used for Data Science\n",
    "* List libraries used for Data Science\n",
    "* Creating ordered and unordered  lists\n",
    "* Creating tables\n",
    "* Evaluating simple arithmetic expressions"
   ]
  },
  {
   "cell_type": "markdown",
   "id": "efe2fe6d-1cdb-4cff-b7c9-c114de037324",
   "metadata": {},
   "source": [
    "## Author\n",
    "Likitha Saravana"
   ]
  }
 ],
 "metadata": {
  "kernelspec": {
   "display_name": "Python",
   "language": "python",
   "name": "conda-env-python-py"
  },
  "language_info": {
   "codemirror_mode": {
    "name": "ipython",
    "version": 3
   },
   "file_extension": ".py",
   "mimetype": "text/x-python",
   "name": "python",
   "nbconvert_exporter": "python",
   "pygments_lexer": "ipython3",
   "version": "3.7.12"
  }
 },
 "nbformat": 4,
 "nbformat_minor": 5
}
